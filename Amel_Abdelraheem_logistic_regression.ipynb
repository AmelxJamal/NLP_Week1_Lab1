{
  "cells": [
    {
      "cell_type": "markdown",
      "metadata": {
        "id": "view-in-github",
        "colab_type": "text"
      },
      "source": [
        "<a href=\"https://colab.research.google.com/github/AmelxJamal/NLP_Week1_Lab1/blob/main/Amel_Abdelraheem_logistic_regression.ipynb\" target=\"_parent\"><img src=\"https://colab.research.google.com/assets/colab-badge.svg\" alt=\"Open In Colab\"/></a>"
      ]
    },
    {
      "cell_type": "markdown",
      "metadata": {
        "id": "LriGCbPISomd"
      },
      "source": [
        "In this second part of the lab, we will implement a language identifier trained on the same data, but using Logistic Regression instead of Naive Bayes."
      ]
    },
    {
      "cell_type": "code",
      "execution_count": 2,
      "metadata": {
        "id": "tqYMzZBtSomf"
      },
      "outputs": [],
      "source": [
        "import io, sys, math\n",
        "import numpy as np\n",
        "from collections import defaultdict"
      ]
    },
    {
      "cell_type": "code",
      "source": [
        "from google.colab import drive\n",
        "drive.mount('/content/drive')"
      ],
      "metadata": {
        "colab": {
          "base_uri": "https://localhost:8080/"
        },
        "id": "aWHCGy8ZhBcn",
        "outputId": "996dbb9e-766a-4e5d-b099-e75bf3a5ed1f"
      },
      "execution_count": 3,
      "outputs": [
        {
          "output_type": "stream",
          "name": "stdout",
          "text": [
            "Mounted at /content/drive\n"
          ]
        }
      ]
    },
    {
      "cell_type": "markdown",
      "metadata": {
        "id": "GBiZ_B9sSomg"
      },
      "source": [
        "This function is used to build the dictionary, or vocabulary, which is a mapping from strings (or words) to integers (or indices). This will allow to build vector representations of documents. "
      ]
    },
    {
      "cell_type": "code",
      "execution_count": 4,
      "metadata": {
        "id": "tbaa1j67Somg"
      },
      "outputs": [],
      "source": [
        "def build_dict(filename, threshold=1):\n",
        "    fin = io.open(filename, 'r', encoding='utf-8')\n",
        "    word_dict, label_dict = {}, {}\n",
        "    counts = defaultdict(lambda: 0)\n",
        "    for line in fin:\n",
        "        tokens = line.split()\n",
        "        label = tokens[0]\n",
        "\n",
        "        if not label in label_dict:\n",
        "            label_dict[label] = len(label_dict)\n",
        "\n",
        "        for w in tokens[1:]:\n",
        "            counts[w] += 1\n",
        "            \n",
        "    for k, v in counts.items():\n",
        "        if v > threshold:\n",
        "            word_dict[k] = len(word_dict)\n",
        "    return word_dict, label_dict"
      ]
    },
    {
      "cell_type": "markdown",
      "metadata": {
        "id": "s3vJom87Somg"
      },
      "source": [
        "This function is used to load the training dataset, and build vector representations of the training examples. In particular, a document or sentence is represented as a bag of words. Each example correspond to a sparse vector ` x` of dimension `V`, where `V` is the size of the vocabulary. The element `j` of the vector `x` is the number of times the word `j` appears in the document."
      ]
    },
    {
      "cell_type": "code",
      "execution_count": 5,
      "metadata": {
        "id": "x_Tik0T2Somh"
      },
      "outputs": [],
      "source": [
        "def load_data(filename, word_dict, label_dict):\n",
        "    fin = io.open(filename, 'r', encoding='utf-8')\n",
        "    data = []\n",
        "    dim = len(word_dict)\n",
        "    for line in fin:\n",
        "        tokens = line.split()\n",
        "        label = tokens[0]\n",
        "\n",
        "        yi = label_dict[label]\n",
        "        xi = np.zeros(dim)\n",
        "        for word in tokens[1:]:\n",
        "            if word in word_dict:\n",
        "                wid = word_dict[word]\n",
        "                xi[wid] += 1.0\n",
        "        data.append((yi, xi))\n",
        "    return data"
      ]
    },
    {
      "cell_type": "markdown",
      "metadata": {
        "id": "aHm3tAxcSomh"
      },
      "source": [
        "First, let's implement the softmax function. Don't forget numerical stability!"
      ]
    },
    {
      "cell_type": "code",
      "execution_count": 49,
      "metadata": {
        "id": "TnrS_4dMSomh"
      },
      "outputs": [],
      "source": [
        "def softmax(x):\n",
        "    ### FILL CODE\n",
        "    \n",
        "    x_normalized = x - max(x)\n",
        "    log_softmax =  x_normalized - np.log(np.sum(np.exp(x_normalized), axis=0))\n",
        "\n",
        "    return np.exp(log_softmax)"
      ]
    },
    {
      "cell_type": "markdown",
      "metadata": {
        "id": "a55lFhuBSomi"
      },
      "source": [
        "Now, let's implement the main training loop, by using stochastic gradient descent. The function will iterate over the examples of the training set. For each example, we will first compute the loss, before computing the gradient and performing the update."
      ]
    },
    {
      "cell_type": "code",
      "execution_count": 73,
      "metadata": {
        "id": "FX_rvY4TSomi"
      },
      "outputs": [],
      "source": [
        "def sgd(w, data, niter):\n",
        "    nlabels, dim = w.shape\n",
        "    # tau = 0.001\n",
        "    for iter in range(niter):\n",
        "        ### FILL CODE\n",
        "        \n",
        "        for x in data:\n",
        "\n",
        "          label = x[0]\n",
        "          value = x[1]\n",
        "          \n",
        "          proba = softmax(w@value)\n",
        "\n",
        "          # print(proba)\n",
        "          true_label = np.zeros(len(proba))\n",
        "          true_label[label] = 1\n",
        "          # print(proba)\n",
        "          y_pred = np.argmax(proba)\n",
        "          # print(y_pred)\n",
        "          \n",
        "          # print('log of probab', true_label* np.log(proba))\n",
        "          loss = - np.sum(true_label* np.log(proba))\n",
        "          # grad = - value * (label - y_pred)\n",
        "          # print('value', value.shape)\n",
        "          # print('proba',proba.shape)\n",
        "          grad = value*loss\n",
        "          \n",
        "          # print('gradient:', grad)\n",
        "          # print('w before step', w)\n",
        "          w = w - grad\n",
        "          # print('w after step', w)\n",
        "          # break\n",
        "\n",
        "        print('iteration',iter, ': loss ', loss)\n",
        "          \n",
        "\n",
        "    return w"
      ]
    },
    {
      "cell_type": "markdown",
      "metadata": {
        "id": "AgShqwy_Somi"
      },
      "source": [
        "The next function will predict the most probable label corresponding to example `x`, given the trained classifier `w`."
      ]
    },
    {
      "cell_type": "code",
      "execution_count": 8,
      "metadata": {
        "id": "ljjdR9QdSomi"
      },
      "outputs": [],
      "source": [
        "def predict(w, x):\n",
        "    ## FILL CODE\n",
        "    proba = softmax(x@w.T)\n",
        "    y_pred = np.argmax(proba)\n",
        "    \n",
        "    return y_pred"
      ]
    },
    {
      "cell_type": "markdown",
      "metadata": {
        "id": "zCfvwQ4bSomj"
      },
      "source": [
        "Finally, this function will compute the accuracy of a trained classifier `w` on a validation set."
      ]
    },
    {
      "cell_type": "code",
      "execution_count": 9,
      "metadata": {
        "id": "WI4GlJ3CSomj"
      },
      "outputs": [],
      "source": [
        "def compute_accuracy(w, valid_data):\n",
        "    ## FILL CODE\n",
        "    score = 0\n",
        "    for x in valid_data:\n",
        "      label = x[0]\n",
        "      value = x[1]\n",
        "      y_pred = predict(w, value)\n",
        "      if y_pred == label:\n",
        "        score +=1\n",
        "      \n",
        "    accuracy = score/len(valid_data)\n",
        "    return accuracy * 100"
      ]
    },
    {
      "cell_type": "code",
      "execution_count": 74,
      "metadata": {
        "id": "uCnbsQvISomj",
        "colab": {
          "base_uri": "https://localhost:8080/"
        },
        "outputId": "e60d3de6-3255-4bea-de0a-e1ad2164845f"
      },
      "outputs": [
        {
          "output_type": "stream",
          "name": "stdout",
          "text": [
            "\n",
            "** Logistic Regression **\n",
            "\n",
            "iteration 0 : loss  4.2238684108256805\n",
            "iteration 1 : loss  4.22386841082568\n",
            "iteration 2 : loss  4.223868410825675\n",
            "iteration 3 : loss  4.223868410825672\n",
            "iteration 4 : loss  4.2238684108256646\n",
            "\n",
            "Validation accuracy: 7.800\n",
            "\n"
          ]
        }
      ],
      "source": [
        "print(\"\")\n",
        "print(\"** Logistic Regression **\")\n",
        "print(\"\")\n",
        "\n",
        "word_dict, label_dict = build_dict(\"/content/drive/MyDrive/NLP_Week1_Lab1/train1.txt\")\n",
        "train_data = load_data(\"/content/drive/MyDrive/NLP_Week1_Lab1/train1.txt\", word_dict, label_dict)\n",
        "valid_data = load_data(\"/content/drive/MyDrive/NLP_Week1_Lab1/valid1.txt\", word_dict, label_dict)\n",
        "\n",
        "nlabels = len(label_dict)\n",
        "dim = len(word_dict)\n",
        "w = np.random.randn(nlabels, dim)\n",
        "w = sgd(w, train_data, 5)\n",
        "print(\"\")\n",
        "print(\"Validation accuracy: %.3f\" % compute_accuracy(w, valid_data))\n",
        "print(\"\")"
      ]
    },
    {
      "cell_type": "code",
      "source": [
        "train_data[0][1].shape, w.shape"
      ],
      "metadata": {
        "colab": {
          "base_uri": "https://localhost:8080/"
        },
        "id": "g2nWkMGFx0l7",
        "outputId": "c0d41a20-626c-460f-93fc-da19077dc03f"
      },
      "execution_count": 52,
      "outputs": [
        {
          "output_type": "execute_result",
          "data": {
            "text/plain": [
              "((5826,), (10, 5826))"
            ]
          },
          "metadata": {},
          "execution_count": 52
        }
      ]
    },
    {
      "cell_type": "code",
      "source": [
        ""
      ],
      "metadata": {
        "id": "Jl7J8j1F6XQ_"
      },
      "execution_count": null,
      "outputs": []
    }
  ],
  "metadata": {
    "kernelspec": {
      "display_name": "Python 3",
      "language": "python",
      "name": "python3"
    },
    "language_info": {
      "codemirror_mode": {
        "name": "ipython",
        "version": 3
      },
      "file_extension": ".py",
      "mimetype": "text/x-python",
      "name": "python",
      "nbconvert_exporter": "python",
      "pygments_lexer": "ipython3",
      "version": "3.6.2+"
    },
    "colab": {
      "name": "Amel_Abdelraheem_logistic_regression.ipynb",
      "provenance": [],
      "collapsed_sections": [],
      "include_colab_link": true
    }
  },
  "nbformat": 4,
  "nbformat_minor": 0
}